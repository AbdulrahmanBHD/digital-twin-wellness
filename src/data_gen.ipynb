{
  "nbformat": 4,
  "nbformat_minor": 0,
  "metadata": {
    "colab": {
      "provenance": []
    },
    "kernelspec": {
      "name": "python3",
      "display_name": "Python 3"
    },
    "language_info": {
      "name": "python"
    }
  },
  "cells": [
    {
      "cell_type": "markdown",
      "source": [
        "Welcome, in this Jupyter notebook you will find the data generation code used to generate synthetic data for the [digital twin wellness project](https://github.com/AbdulrahmanBHD/digital-twin-wellness)"
      ],
      "metadata": {
        "id": "eIycJFEfssmG"
      }
    },
    {
      "cell_type": "code",
      "execution_count": null,
      "metadata": {
        "colab": {
          "base_uri": "https://localhost:8080/"
        },
        "id": "j8Xw2m6bOjns",
        "outputId": "bd331300-baf3-4ce8-9185-cb082957fb93"
      },
      "outputs": [
        {
          "output_type": "stream",
          "name": "stdout",
          "text": [
            "   sleep_mins  sleep_qlt  steps  resting_hr_avg  screen_mins   water_l  \\\n",
            "0  467.763419          9   3219       66.790236   543.657309  1.150902   \n",
            "1  422.044970          8   8041       77.218037   348.770047  2.818480   \n",
            "2  478.633575          9  19444       53.904656   326.912522  2.905773   \n",
            "3  541.658150          5   6287       78.151096   573.117057  1.496759   \n",
            "4  415.140957          7   2619       69.599047   259.410016  1.768052   \n",
            "\n",
            "   stress_1_10  caffeine_mg  prod_mins  exercise_mins  wellness_tomorrow  \n",
            "0            7   121.670919        294             55          36.916190  \n",
            "1            4   138.456072        335            109          65.388342  \n",
            "2            3    19.186819         96            156          92.933948  \n",
            "3            1    70.691087        368            103          68.289604  \n",
            "4            8    89.984290        212             76          39.044955  \n"
          ]
        }
      ],
      "source": [
        "import numpy as np\n",
        "import pandas as pd\n",
        "\n",
        "np.random.seed(42)\n",
        "n = 365  # one year of data\n",
        "\n",
        "# Generate features\n",
        "#steps, movement_mins, calories, diet_qlt, water_l, sleep_mins, sleep_qlt,\n",
        "#stress_avg, mood_entry_avg, coffee_mg, prod_mins, screen_mins, resting_hr_avg\n",
        "sleep_hrs = np.clip(np.random.normal(7.2, 1.2, n), 4, 10)\n",
        "sleep_qlt = np.random.randint(4, 10, n)\n",
        "steps = np.random.randint(1000, 20000, n)\n",
        "resting_hr_avg = np.clip(np.random.normal(70, 8, n), 50, 90)\n",
        "screen_time_hrs = np.clip(np.random.normal(5, 2.5, n), 0, 12)\n",
        "water_l = np.clip(np.random.normal(2.2, 0.8, n), 0, 4)\n",
        "stress_avg = np.random.randint(1, 11, n)\n",
        "caffeine_mg = np.clip(np.random.normal(120, 80, n), 0, 400)\n",
        "prod_mins = np.random.randint(0, 480, n)\n",
        "exercise_mins = np.random.randint(0, 180, n)\n",
        "\n",
        "#Converting hours to minutes (this will also be needed for user input later)\n",
        "sleep_mins = sleep_hrs * 60\n",
        "screen_mins = screen_time_hrs * 60\n",
        "\n",
        "# Normalize for scoring\n",
        "def normalize(x): return (x - np.min(x)) / (np.max(x) - np.min(x))\n",
        "\n",
        "wellness = (\n",
        "    0.3*normalize(sleep_mins) +\n",
        "    0.2*normalize(sleep_qlt) +\n",
        "    0.15*normalize(steps) +\n",
        "   -0.15*normalize(stress_avg) +\n",
        "   -0.1*normalize(screen_mins) +\n",
        "    0.1*normalize(exercise_mins) +\n",
        "    0.05*normalize(water_l) +\n",
        "    np.random.normal(0, 0.05, n)  # noise\n",
        ")\n",
        "\n",
        "# Scale to 0–100\n",
        "wellness_tmrw = np.clip(100*normalize(wellness), 0, 100)\n",
        "\n",
        "df = pd.DataFrame({\n",
        "    \"sleep_mins\": sleep_mins,\n",
        "    \"sleep_qlt\": sleep_qlt,\n",
        "    \"steps\": steps,\n",
        "    \"resting_hr_avg\": resting_hr_avg,\n",
        "    \"screen_mins\": screen_mins,\n",
        "    \"water_l\": water_l,\n",
        "    \"stress_1_10\": stress_avg,\n",
        "    \"caffeine_mg\": caffeine_mg,\n",
        "    \"prod_mins\": prod_mins,\n",
        "    \"exercise_mins\": exercise_mins,\n",
        "    \"wellness_tmrw\": wellness_tmrw\n",
        "})\n",
        "\n",
        "df.to_csv(\"/WDT/data/wellness_synthetic.csv\", index=False)\n",
        "print(df.head())"
      ]
    }
  ]
}