{
  "nbformat": 4,
  "nbformat_minor": 0,
  "metadata": {
    "colab": {
      "provenance": []
    },
    "kernelspec": {
      "name": "python3",
      "display_name": "Python 3"
    },
    "language_info": {
      "name": "python"
    }
  },
  "cells": [
    {
      "cell_type": "markdown",
      "source": [
        "Welcome, in this Jupyter notebook you will find the data generation code used to generate synthetic data for the [digital twin wellness project](https://github.com/AbdulrahmanBHD/digital-twin-wellness)"
      ],
      "metadata": {
        "id": "eIycJFEfssmG"
      }
    },
    {
      "cell_type": "code",
      "execution_count": 5,
      "metadata": {
        "colab": {
          "base_uri": "https://localhost:8080/"
        },
        "id": "j8Xw2m6bOjns",
        "outputId": "50449807-c53c-487e-946d-7f16d488f7fa"
      },
      "outputs": [
        {
          "output_type": "stream",
          "name": "stdout",
          "text": [
            "   sleep_mins  sleep_qlt  steps    rhr_avg  screen_mins   water_l  stress_avg  \\\n",
            "0  467.763419          9   3219  66.790236   543.657309  1.150902           7   \n",
            "1  422.044970          8   8041  77.218037   348.770047  2.818480           4   \n",
            "2  478.633575          9  19444  53.904656   326.912522  2.905773           3   \n",
            "3  541.658150          5   6287  78.151096   573.117057  1.496759           1   \n",
            "4  415.140957          7   2619  69.599047   259.410016  1.768052           8   \n",
            "\n",
            "   mood_avg  caffeine_mg  diet_qlt  prod_mins  exercise_mins  wellness_tmrw  \n",
            "0         4    85.420973         2        148             78      61.536247  \n",
            "1         2   106.934335         5        475             71      63.781493  \n",
            "2         6   163.284541         1        226              6      78.100076  \n",
            "3         9   107.721258         6        213            110      65.964726  \n",
            "4         1   230.980593         2        359            118      15.695926  \n"
          ]
        }
      ],
      "source": [
        "import numpy as np\n",
        "import pandas as pd\n",
        "\n",
        "np.random.seed(42)\n",
        "n = 365  # one year of data\n",
        "\n",
        "# Generate features\n",
        "#steps, exercise_mins, diet_qlt, water_l, sleep_mins, sleep_qlt,\n",
        "#stress_avg, mood_avg, coffee_mg, prod_mins, screen_mins, rhr_avg\n",
        "sleep_hrs = np.clip(np.random.normal(7.2, 1.2, n), 4, 10)\n",
        "sleep_qlt = np.random.randint(4, 10, n)\n",
        "steps = np.random.randint(1000, 20000, n)\n",
        "rhr_avg = np.clip(np.random.normal(70, 8, n), 50, 90)\n",
        "screen_time_hrs = np.clip(np.random.normal(5, 2.5, n), 0, 12)\n",
        "water_l = np.clip(np.random.normal(2.2, 0.8, n), 0, 4)\n",
        "stress_avg = np.random.randint(1, 11, n)\n",
        "mood_avg = np.random.randint(1, 11, n)\n",
        "caffeine_mg = np.clip(np.random.normal(120, 80, n), 0, 400)\n",
        "diet_qlt = np.random.randint(1, 11, n)\n",
        "prod_mins = np.random.randint(0, 480, n)\n",
        "exercise_mins = np.random.randint(0, 180, n)\n",
        "\n",
        "#Converting hours to minutes (this will also be needed for user input later)\n",
        "sleep_mins = sleep_hrs * 60\n",
        "screen_mins = screen_time_hrs * 60\n",
        "\n",
        "# Normalize for scoring\n",
        "def normalize(x): return (x - np.min(x)) / (np.max(x) - np.min(x))\n",
        "\n",
        "wellness = (\n",
        "    0.25*normalize(sleep_mins) + # big impact\n",
        "    0.15*normalize(sleep_qlt) + # strong, but slightly less\n",
        "    0.15*normalize(steps) + # physical activity\n",
        "    -0.05*normalize(rhr_avg) + # higher RHR is worse\n",
        "    -0.10*normalize(screen_mins) + # moderate negative\n",
        "    0.05*normalize(water_l) + # hydration\n",
        "    -0.15*normalize(stress_avg) + # stress destroys wellness\n",
        "    0.05*normalize(mood_avg) + # mood carries over\n",
        "    -0.05*normalize(caffeine_mg) + # excess caffeine penalized\n",
        "    0.05*normalize(diet_qlt) + # diet quality\n",
        "    0.04*normalize(prod_mins) + #productivity small positive\n",
        "    0.10*normalize(exercise_mins) + # targeted exercise\n",
        "    np.random.normal(0, 0.05, n) # noise\n",
        ")\n",
        "\n",
        "# TODO: Replace hand-tuned weights with ML-learned feature importances\n",
        "\n",
        "# Scale to 0–100\n",
        "wellness_tmrw = np.clip(100*normalize(wellness), 0, 100)\n",
        "\n",
        "df = pd.DataFrame({\n",
        "    \"sleep_mins\": sleep_mins,\n",
        "    \"sleep_qlt\": sleep_qlt,\n",
        "    \"steps\": steps,\n",
        "    \"rhr_avg\": rhr_avg,\n",
        "    \"screen_mins\": screen_mins,\n",
        "    \"water_l\": water_l,\n",
        "    \"stress_avg\": stress_avg,\n",
        "    \"mood_avg\": mood_avg,\n",
        "    \"caffeine_mg\": caffeine_mg,\n",
        "    \"diet_qlt\": diet_qlt,\n",
        "    \"prod_mins\": prod_mins,\n",
        "    \"exercise_mins\": exercise_mins,\n",
        "    \"wellness_tmrw\": wellness_tmrw\n",
        "})\n",
        "\n",
        "df.to_csv(\"/WDT/data/wellness_synthetic.csv\", index=False)\n",
        "print(df.head())"
      ]
    }
  ]
}